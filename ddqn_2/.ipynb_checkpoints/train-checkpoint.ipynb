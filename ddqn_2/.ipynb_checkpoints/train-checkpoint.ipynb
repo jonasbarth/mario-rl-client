{
 "cells": [
  {
   "cell_type": "code",
   "execution_count": 93,
   "metadata": {
    "scrolled": true
   },
   "outputs": [
    {
     "name": "stdout",
     "output_type": "stream",
     "text": [
      "0.09999999999999998\n",
      "Starting episode 0\n"
     ]
    },
    {
     "name": "stderr",
     "output_type": "stream",
     "text": [
      "C:\\Users\\Jonas\\Desktop\\Uni\\Year 4\\ECM3401 Individual Literature and Review Project\\dev\\marioai\\mario-rl-client\\ddqn_2\\DQN_learn.py:261: RuntimeWarning: Mean of empty slice.\n",
      "  tb.add_scalar(\"Average Loss per episode\", i_loss.mean(), i_episode)\n",
      "C:\\Users\\Jonas\\Anaconda3\\envs\\marioenv\\lib\\site-packages\\numpy\\core\\_methods.py:161: RuntimeWarning: invalid value encountered in double_scalars\n",
      "  ret = ret.dtype.type(ret / rcount)\n",
      "C:\\Users\\Jonas\\Desktop\\Uni\\Year 4\\ECM3401 Individual Literature and Review Project\\dev\\marioai\\mario-rl-client\\ddqn_2\\DQN_learn.py:266: RuntimeWarning: Mean of empty slice.\n",
      "  total_loss = np.append(total_loss, i_loss.mean())\n"
     ]
    },
    {
     "name": "stdout",
     "output_type": "stream",
     "text": [
      "Loss []\n",
      "Episode 0 finished\n",
      "Starting episode 1\n",
      "Loss []\n",
      "Episode 1 finished\n",
      "Starting episode 2\n",
      "Loss []\n",
      "Episode 2 finished\n",
      "Starting episode 3\n",
      "Loss []\n",
      "Episode 3 finished\n",
      "Starting episode 4\n",
      "Loss []\n",
      "Episode 4 finished\n",
      "Starting episode 5\n",
      "Loss []\n",
      "Episode 5 finished\n",
      "Starting episode 6\n",
      "Loss []\n",
      "Episode 6 finished\n",
      "Starting episode 7\n",
      "Loss []\n",
      "Episode 7 finished\n",
      "Starting episode 8\n",
      "Loss []\n",
      "Episode 8 finished\n",
      "Starting episode 9\n",
      "Loss []\n",
      "Episode 9 finished\n",
      "Saving model\n"
     ]
    },
    {
     "ename": "OSError",
     "evalue": "[Errno 22] Invalid argument: './models/2020-04-05_18:31:44_eps_10_gap_2_policy.pt'",
     "output_type": "error",
     "traceback": [
      "\u001b[1;31m---------------------------------------------------------------------------\u001b[0m",
      "\u001b[1;31mOSError\u001b[0m                                   Traceback (most recent call last)",
      "\u001b[1;32m<ipython-input-93-12808cb3cd00>\u001b[0m in \u001b[0;36m<module>\u001b[1;34m\u001b[0m\n\u001b[0;32m     60\u001b[0m \u001b[0magent\u001b[0m \u001b[1;33m=\u001b[0m \u001b[0mDDQNAgent\u001b[0m\u001b[1;33m(\u001b[0m\u001b[0mgame\u001b[0m\u001b[1;33m,\u001b[0m \u001b[0mnum_episodes\u001b[0m\u001b[1;33m,\u001b[0m \u001b[0mDQN\u001b[0m\u001b[1;33m,\u001b[0m \u001b[0moptimizer_spec\u001b[0m\u001b[1;33m,\u001b[0m \u001b[0mexploration_schedule\u001b[0m\u001b[1;33m,\u001b[0m \u001b[0mREPLAY_BUFFER_SIZE\u001b[0m\u001b[1;33m,\u001b[0m \u001b[0mBATCH_SIZE\u001b[0m\u001b[1;33m,\u001b[0m \u001b[0mGAMMA\u001b[0m\u001b[1;33m,\u001b[0m \u001b[0mLEARNING_STARTS\u001b[0m\u001b[1;33m,\u001b[0m \u001b[0mLEARNING_FREQ\u001b[0m\u001b[1;33m,\u001b[0m \u001b[0mFRAME_HISTORY_LEN\u001b[0m\u001b[1;33m,\u001b[0m \u001b[0mTARGER_UPDATE_FREQ\u001b[0m\u001b[1;33m)\u001b[0m\u001b[1;33m\u001b[0m\u001b[1;33m\u001b[0m\u001b[0m\n\u001b[0;32m     61\u001b[0m \u001b[1;31m#agent.play(game.load_model(\"./models/2020-04-05 09_22_16_epochs_1000_gap_3_policy.pt\"))\u001b[0m\u001b[1;33m\u001b[0m\u001b[1;33m\u001b[0m\u001b[1;33m\u001b[0m\u001b[0m\n\u001b[1;32m---> 62\u001b[1;33m \u001b[0magent\u001b[0m\u001b[1;33m.\u001b[0m\u001b[0mtrain\u001b[0m\u001b[1;33m(\u001b[0m\u001b[1;33m)\u001b[0m\u001b[1;33m\u001b[0m\u001b[1;33m\u001b[0m\u001b[0m\n\u001b[0m",
      "\u001b[1;32m~\\Desktop\\Uni\\Year 4\\ECM3401 Individual Literature and Review Project\\dev\\marioai\\mario-rl-client\\ddqn_2\\DQN_learn.py\u001b[0m in \u001b[0;36mtrain\u001b[1;34m(self)\u001b[0m\n\u001b[0;32m    271\u001b[0m         \u001b[0mpolicy_path\u001b[0m \u001b[1;33m=\u001b[0m \u001b[1;34m\"./models/\"\u001b[0m \u001b[1;33m+\u001b[0m \u001b[0mdt\u001b[0m \u001b[1;33m+\u001b[0m \u001b[1;34m\"_eps_\"\u001b[0m \u001b[1;33m+\u001b[0m \u001b[0mstr\u001b[0m\u001b[1;33m(\u001b[0m\u001b[0mself\u001b[0m\u001b[1;33m.\u001b[0m\u001b[0mnum_episodes\u001b[0m\u001b[1;33m)\u001b[0m \u001b[1;33m+\u001b[0m \u001b[1;34m\"_\"\u001b[0m \u001b[1;33m+\u001b[0m \u001b[0mself\u001b[0m\u001b[1;33m.\u001b[0m\u001b[0menv\u001b[0m\u001b[1;33m.\u001b[0m\u001b[0mlevel_path\u001b[0m\u001b[1;33m[\u001b[0m\u001b[1;36m15\u001b[0m\u001b[1;33m:\u001b[0m\u001b[1;33m-\u001b[0m\u001b[1;36m4\u001b[0m\u001b[1;33m]\u001b[0m \u001b[1;33m+\u001b[0m \u001b[1;34m\"_\"\u001b[0m \u001b[1;33m+\u001b[0m \u001b[1;34m\"policy.pt\"\u001b[0m\u001b[1;33m\u001b[0m\u001b[1;33m\u001b[0m\u001b[0m\n\u001b[0;32m    272\u001b[0m         \u001b[0mtarget_path\u001b[0m \u001b[1;33m=\u001b[0m \u001b[1;34m\"./models/\"\u001b[0m \u001b[1;33m+\u001b[0m \u001b[0mdt\u001b[0m \u001b[1;33m+\u001b[0m \u001b[1;34m\"_eps_\"\u001b[0m \u001b[1;33m+\u001b[0m \u001b[0mstr\u001b[0m\u001b[1;33m(\u001b[0m\u001b[0mself\u001b[0m\u001b[1;33m.\u001b[0m\u001b[0mnum_episodes\u001b[0m\u001b[1;33m)\u001b[0m \u001b[1;33m+\u001b[0m \u001b[1;34m\"_\"\u001b[0m \u001b[1;33m+\u001b[0m \u001b[0mself\u001b[0m\u001b[1;33m.\u001b[0m\u001b[0menv\u001b[0m\u001b[1;33m.\u001b[0m\u001b[0mlevel_path\u001b[0m\u001b[1;33m[\u001b[0m\u001b[1;36m15\u001b[0m\u001b[1;33m:\u001b[0m\u001b[1;33m-\u001b[0m\u001b[1;36m4\u001b[0m\u001b[1;33m]\u001b[0m \u001b[1;33m+\u001b[0m \u001b[1;34m\"_\"\u001b[0m \u001b[1;33m+\u001b[0m \u001b[1;34m\"target.pt\"\u001b[0m\u001b[1;33m\u001b[0m\u001b[1;33m\u001b[0m\u001b[0m\n\u001b[1;32m--> 273\u001b[1;33m         \u001b[0mself\u001b[0m\u001b[1;33m.\u001b[0m\u001b[0menv\u001b[0m\u001b[1;33m.\u001b[0m\u001b[0msave_model\u001b[0m\u001b[1;33m(\u001b[0m\u001b[0mQ\u001b[0m\u001b[1;33m,\u001b[0m \u001b[0mpolicy_path\u001b[0m\u001b[1;33m)\u001b[0m\u001b[1;33m\u001b[0m\u001b[1;33m\u001b[0m\u001b[0m\n\u001b[0m\u001b[0;32m    274\u001b[0m         \u001b[0mself\u001b[0m\u001b[1;33m.\u001b[0m\u001b[0menv\u001b[0m\u001b[1;33m.\u001b[0m\u001b[0msave_model\u001b[0m\u001b[1;33m(\u001b[0m\u001b[0mtarget_Q\u001b[0m\u001b[1;33m,\u001b[0m \u001b[0mtarget_path\u001b[0m\u001b[1;33m)\u001b[0m\u001b[1;33m\u001b[0m\u001b[1;33m\u001b[0m\u001b[0m\n\u001b[0;32m    275\u001b[0m \u001b[1;33m\u001b[0m\u001b[0m\n",
      "\u001b[1;32m~\\Desktop\\Uni\\Year 4\\ECM3401 Individual Literature and Review Project\\dev\\marioai\\mario-rl-client\\game.py\u001b[0m in \u001b[0;36msave_model\u001b[1;34m(self, model, path)\u001b[0m\n\u001b[0;32m     86\u001b[0m         \u001b[0mself\u001b[0m\u001b[1;33m.\u001b[0m\u001b[0mdelete\u001b[0m\u001b[1;33m(\u001b[0m\u001b[0mpath\u001b[0m\u001b[1;33m)\u001b[0m\u001b[1;33m\u001b[0m\u001b[1;33m\u001b[0m\u001b[0m\n\u001b[0;32m     87\u001b[0m         \u001b[0mprint\u001b[0m\u001b[1;33m(\u001b[0m\u001b[1;34m\"Saving model\"\u001b[0m\u001b[1;33m)\u001b[0m\u001b[1;33m\u001b[0m\u001b[1;33m\u001b[0m\u001b[0m\n\u001b[1;32m---> 88\u001b[1;33m         \u001b[0mtorch\u001b[0m\u001b[1;33m.\u001b[0m\u001b[0msave\u001b[0m\u001b[1;33m(\u001b[0m\u001b[0mmodel\u001b[0m\u001b[1;33m.\u001b[0m\u001b[0mstate_dict\u001b[0m\u001b[1;33m(\u001b[0m\u001b[1;33m)\u001b[0m\u001b[1;33m,\u001b[0m \u001b[0mpath\u001b[0m\u001b[1;33m)\u001b[0m\u001b[1;33m\u001b[0m\u001b[1;33m\u001b[0m\u001b[0m\n\u001b[0m\u001b[0;32m     89\u001b[0m         \u001b[0mprint\u001b[0m\u001b[1;33m(\u001b[0m\u001b[1;34m\"Model saved\"\u001b[0m\u001b[1;33m)\u001b[0m\u001b[1;33m\u001b[0m\u001b[1;33m\u001b[0m\u001b[0m\n\u001b[0;32m     90\u001b[0m \u001b[1;33m\u001b[0m\u001b[0m\n",
      "\u001b[1;32m~\\Anaconda3\\envs\\marioenv\\lib\\site-packages\\torch\\serialization.py\u001b[0m in \u001b[0;36msave\u001b[1;34m(obj, f, pickle_module, pickle_protocol, _use_new_zipfile_serialization)\u001b[0m\n\u001b[0;32m    325\u001b[0m             \u001b[1;32mreturn\u001b[0m\u001b[1;33m\u001b[0m\u001b[1;33m\u001b[0m\u001b[0m\n\u001b[0;32m    326\u001b[0m \u001b[1;33m\u001b[0m\u001b[0m\n\u001b[1;32m--> 327\u001b[1;33m     \u001b[1;32mwith\u001b[0m \u001b[0m_open_file_like\u001b[0m\u001b[1;33m(\u001b[0m\u001b[0mf\u001b[0m\u001b[1;33m,\u001b[0m \u001b[1;34m'wb'\u001b[0m\u001b[1;33m)\u001b[0m \u001b[1;32mas\u001b[0m \u001b[0mopened_file\u001b[0m\u001b[1;33m:\u001b[0m\u001b[1;33m\u001b[0m\u001b[1;33m\u001b[0m\u001b[0m\n\u001b[0m\u001b[0;32m    328\u001b[0m         \u001b[0m_legacy_save\u001b[0m\u001b[1;33m(\u001b[0m\u001b[0mobj\u001b[0m\u001b[1;33m,\u001b[0m \u001b[0mopened_file\u001b[0m\u001b[1;33m,\u001b[0m \u001b[0mpickle_module\u001b[0m\u001b[1;33m,\u001b[0m \u001b[0mpickle_protocol\u001b[0m\u001b[1;33m)\u001b[0m\u001b[1;33m\u001b[0m\u001b[1;33m\u001b[0m\u001b[0m\n\u001b[0;32m    329\u001b[0m \u001b[1;33m\u001b[0m\u001b[0m\n",
      "\u001b[1;32m~\\Anaconda3\\envs\\marioenv\\lib\\site-packages\\torch\\serialization.py\u001b[0m in \u001b[0;36m_open_file_like\u001b[1;34m(name_or_buffer, mode)\u001b[0m\n\u001b[0;32m    210\u001b[0m \u001b[1;32mdef\u001b[0m \u001b[0m_open_file_like\u001b[0m\u001b[1;33m(\u001b[0m\u001b[0mname_or_buffer\u001b[0m\u001b[1;33m,\u001b[0m \u001b[0mmode\u001b[0m\u001b[1;33m)\u001b[0m\u001b[1;33m:\u001b[0m\u001b[1;33m\u001b[0m\u001b[1;33m\u001b[0m\u001b[0m\n\u001b[0;32m    211\u001b[0m     \u001b[1;32mif\u001b[0m \u001b[0m_is_path\u001b[0m\u001b[1;33m(\u001b[0m\u001b[0mname_or_buffer\u001b[0m\u001b[1;33m)\u001b[0m\u001b[1;33m:\u001b[0m\u001b[1;33m\u001b[0m\u001b[1;33m\u001b[0m\u001b[0m\n\u001b[1;32m--> 212\u001b[1;33m         \u001b[1;32mreturn\u001b[0m \u001b[0m_open_file\u001b[0m\u001b[1;33m(\u001b[0m\u001b[0mname_or_buffer\u001b[0m\u001b[1;33m,\u001b[0m \u001b[0mmode\u001b[0m\u001b[1;33m)\u001b[0m\u001b[1;33m\u001b[0m\u001b[1;33m\u001b[0m\u001b[0m\n\u001b[0m\u001b[0;32m    213\u001b[0m     \u001b[1;32melse\u001b[0m\u001b[1;33m:\u001b[0m\u001b[1;33m\u001b[0m\u001b[1;33m\u001b[0m\u001b[0m\n\u001b[0;32m    214\u001b[0m         \u001b[1;32mif\u001b[0m \u001b[1;34m'w'\u001b[0m \u001b[1;32min\u001b[0m \u001b[0mmode\u001b[0m\u001b[1;33m:\u001b[0m\u001b[1;33m\u001b[0m\u001b[1;33m\u001b[0m\u001b[0m\n",
      "\u001b[1;32m~\\Anaconda3\\envs\\marioenv\\lib\\site-packages\\torch\\serialization.py\u001b[0m in \u001b[0;36m__init__\u001b[1;34m(self, name, mode)\u001b[0m\n\u001b[0;32m    191\u001b[0m \u001b[1;32mclass\u001b[0m \u001b[0m_open_file\u001b[0m\u001b[1;33m(\u001b[0m\u001b[0m_opener\u001b[0m\u001b[1;33m)\u001b[0m\u001b[1;33m:\u001b[0m\u001b[1;33m\u001b[0m\u001b[1;33m\u001b[0m\u001b[0m\n\u001b[0;32m    192\u001b[0m     \u001b[1;32mdef\u001b[0m \u001b[0m__init__\u001b[0m\u001b[1;33m(\u001b[0m\u001b[0mself\u001b[0m\u001b[1;33m,\u001b[0m \u001b[0mname\u001b[0m\u001b[1;33m,\u001b[0m \u001b[0mmode\u001b[0m\u001b[1;33m)\u001b[0m\u001b[1;33m:\u001b[0m\u001b[1;33m\u001b[0m\u001b[1;33m\u001b[0m\u001b[0m\n\u001b[1;32m--> 193\u001b[1;33m         \u001b[0msuper\u001b[0m\u001b[1;33m(\u001b[0m\u001b[0m_open_file\u001b[0m\u001b[1;33m,\u001b[0m \u001b[0mself\u001b[0m\u001b[1;33m)\u001b[0m\u001b[1;33m.\u001b[0m\u001b[0m__init__\u001b[0m\u001b[1;33m(\u001b[0m\u001b[0mopen\u001b[0m\u001b[1;33m(\u001b[0m\u001b[0mname\u001b[0m\u001b[1;33m,\u001b[0m \u001b[0mmode\u001b[0m\u001b[1;33m)\u001b[0m\u001b[1;33m)\u001b[0m\u001b[1;33m\u001b[0m\u001b[1;33m\u001b[0m\u001b[0m\n\u001b[0m\u001b[0;32m    194\u001b[0m \u001b[1;33m\u001b[0m\u001b[0m\n\u001b[0;32m    195\u001b[0m     \u001b[1;32mdef\u001b[0m \u001b[0m__exit__\u001b[0m\u001b[1;33m(\u001b[0m\u001b[0mself\u001b[0m\u001b[1;33m,\u001b[0m \u001b[1;33m*\u001b[0m\u001b[0margs\u001b[0m\u001b[1;33m)\u001b[0m\u001b[1;33m:\u001b[0m\u001b[1;33m\u001b[0m\u001b[1;33m\u001b[0m\u001b[0m\n",
      "\u001b[1;31mOSError\u001b[0m: [Errno 22] Invalid argument: './models/2020-04-05_18:31:44_eps_10_gap_2_policy.pt'"
     ]
    }
   ],
   "source": [
    "\n",
    "import torch.optim as optim\n",
    "\n",
    "##from DQN_model import DQN\n",
    "from DQN_learn import OptimizerSpec\n",
    "from utils.schedule import LinearSchedule\n",
    "\n",
    "\n",
    "import torch\n",
    "import numpy as np\n",
    "import random\n",
    "\n",
    "%run ../game\n",
    "%run ../preprocessor\n",
    "%run DQN_model\n",
    "%run DQN_learn\n",
    "%run ../hyper_params\n",
    "\n",
    "params = get_param_dict(\"../hyperparameters.json\")\n",
    "\n",
    "SEED = params[\"seed\"]\n",
    "BATCH_SIZE = params[\"batch_size\"]\n",
    "GAMMA = params[\"gamma\"]\n",
    "REPLAY_BUFFER_SIZE = params[\"replay_buffer_size\"]\n",
    "LEARNING_STARTS = params[\"learning_starts\"]\n",
    "#LEARNING_STARTS = 5 #debug for back_prop\n",
    "LEARNING_FREQ = params[\"learning_freq\"] #how often the error is calculated\n",
    "FRAME_HISTORY_LEN = params[\"frame_history_len\"] \n",
    "TARGER_UPDATE_FREQ = params[\"target_update_freq\"]\n",
    "LEARNING_RATE = params[\"learning_rate\"]\n",
    "ALPHA = params[\"alpha\"]\n",
    "EPS = params[\"eps\"]\n",
    "num_episodes = 10#params[\"num_episodes\"]\n",
    "rgb = params[\"rgb\"]\n",
    "\n",
    "\n",
    "optimizer_spec = OptimizerSpec(\n",
    "        constructor=optim.RMSprop,\n",
    "        kwargs=dict(lr=LEARNING_RATE, alpha=ALPHA, eps=EPS),\n",
    "    )\n",
    "\n",
    "exploration_schedule = LinearSchedule(num_episodes, 0.1)\n",
    "print(exploration_schedule.value(500000))\n",
    "    \n",
    "n_frames = params[\"n_frames\"]\n",
    "n_channels = params[\"n_channels\"]\n",
    "original_width = params[\"original_width\"]\n",
    "original_height = params[\"original_height\"]\n",
    "scaled_width = 50#params[\"scaled_width\"]\n",
    "scaled_height = 50#params[\"scaled_height\"]\n",
    "\n",
    "game_visible = params[\"game_visible\"]\n",
    "mario_scale = params[\"mario_scale\"]\n",
    "mario_state = params[\"mario_state\"]\n",
    "mario_timer = params[\"mario_timer\"]\n",
    "mario_fps = params[\"mario_fps\"]\n",
    "level_path = params[\"level_path\"]\n",
    "preprocess = Preprocessor(n_frames, n_channels, original_height, original_width, scaled_height, scaled_width)\n",
    "game = Game(game_visible, mario_scale, mario_state, mario_timer, mario_fps, level_path, preprocess, rgb, True)\n",
    "\n",
    "agent = DDQNAgent(game, num_episodes, DQN, optimizer_spec, exploration_schedule, REPLAY_BUFFER_SIZE, BATCH_SIZE, GAMMA, LEARNING_STARTS, LEARNING_FREQ, FRAME_HISTORY_LEN, TARGER_UPDATE_FREQ)\n",
    "#agent.play(game.load_model(\"./models/2020-04-05 09_22_16_epochs_1000_gap_3_policy.pt\"))\n",
    "agent.train()\n"
   ]
  },
  {
   "cell_type": "code",
   "execution_count": 20,
   "metadata": {},
   "outputs": [],
   "source": [
    "optimizer_spec = OptimizerSpec(\n",
    "        constructor=optim.RMSprop,\n",
    "        kwargs=dict(lr=LEARNING_RATE, alpha=ALPHA, eps=EPS),\n",
    "    )\n",
    "\n",
    "timesteps = 10**3\n",
    "start = 1.0\n",
    "\n",
    "exploration_schedule = LinearSchedule(timesteps, 0.1, start)\n",
    "\n",
    "data = np.array([])\n",
    "\n",
    "for n in range(timesteps):\n",
    "    data = np.append(data, exploration_schedule.value(n + 1))\n",
    "\n",
    "import matplotlib.pyplot as plt\n",
    "\n",
    "\n",
    "\n"
   ]
  },
  {
   "cell_type": "code",
   "execution_count": 84,
   "metadata": {},
   "outputs": [
    {
     "data": {
      "text/plain": [
       "[<matplotlib.lines.Line2D at 0x166c0f2fb08>]"
      ]
     },
     "execution_count": 84,
     "metadata": {},
     "output_type": "execute_result"
    },
    {
     "data": {
      "image/png": "[encoded data removed]",
      "text/plain": [
       "<Figure size 432x288 with 1 Axes>"
      ]
     },
     "metadata": {
      "needs_background": "light"
     },
     "output_type": "display_data"
    }
   ],
   "source": [
    "plt.plot(data)"
   ]
  },
  {
   "cell_type": "code",
   "execution_count": 62,
   "metadata": {},
   "outputs": [
    {
     "data": {
      "text/plain": [
       "[<matplotlib.lines.Line2D at 0x143f0351208>]"
      ]
     },
     "execution_count": 62,
     "metadata": {},
     "output_type": "execute_result"
    },
    {
     "data": {
      "image/png": "[encoded data removed]",
      "text/plain": [
       "<Figure size 432x288 with 1 Axes>"
      ]
     },
     "metadata": {
      "needs_background": "light"
     },
     "output_type": "display_data"
    }
   ],
   "source": [
    "import math\n",
    "exp = 3\n",
    "eps_start = 1.0\n",
    "decay = 0.997\n",
    "m = 4\n",
    "N = 10**exp\n",
    "def sin_eps(eps_start, decay, i_episode, m, N):\n",
    "    return eps_start * decay ** i_episode * (1/2) * (1 + math.cos((2*math.pi * i_episode * m) / N))\n",
    "\n",
    "data_2 = np.array([])\n",
    "for n in range(N):\n",
    "    eps = sin_eps(eps_start, decay, n + 1, m, N)\n",
    "    data_2 = np.append(data_2, eps)\n",
    "    \n",
    "plt.plot(data_2)"
   ]
  },
  {
   "cell_type": "code",
   "execution_count": 97,
   "metadata": {},
   "outputs": [
    {
     "data": {
      "image/png": "[encoded data removed]",
      "text/plain": [
       "<Figure size 432x288 with 1 Axes>"
      ]
     },
     "metadata": {
      "needs_background": "light"
     },
     "output_type": "display_data"
    }
   ],
   "source": [
    "def oc_eps(eps_min, eps_start, num_steps, eps_decay):\n",
    "    eps = eps_min + (eps_start - eps_min) * math.exp(-num_steps / eps_decay)\n",
    "    return eps\n",
    "\n",
    "def lin_eps(eps_start, eps_end, t, N):\n",
    "    eps = eps_start + min(t / N, eps_start) * (eps_end - eps_start)\n",
    "    return eps\n",
    "\n",
    "def exp_eps(eps_start, eps_end, t, N):\n",
    "    #eps = eps_start + (min(t / N, eps_start) * (eps_end - eps_start)) \n",
    "    #return eps ** eps_decay\n",
    "    return eps_end + (eps_start - eps_end) * math.exp(-1. * t / N)\n",
    "       \n",
    "\n",
    "\n",
    "def sin_eps(eps_start, decay, i_episode, m, N):\n",
    "    return eps_start * decay ** i_episode * (1/2) * (1 + math.cos((2*math.pi * i_episode * m) / N))\n",
    "\n",
    "    \n",
    "eps_start=1.0\n",
    "eps_min=0.1\n",
    "eps_decay=int(1e6)\n",
    "\n",
    "data_3 = np.array([])\n",
    "data_4 = np.array([])\n",
    "data_5 = np.array([])\n",
    "\n",
    "for n in range(N):\n",
    "    eps = oc_eps(eps_min, eps_start, n + 1, eps_decay)\n",
    "    data_3 = np.append(data_3, eps)\n",
    "    data_4 = np.append(data_4, lin_eps(eps_start, eps_min, n+1, N))\n",
    "    data_5 = np.append(data_5, exp_eps(eps_start, eps_min, n+1, N))\n",
    "\n",
    "    \n",
    "    \n",
    "plt.plot(data_4, label=\"Linear Decay\")\n",
    "plt.plot(data_2, label=\"Sinusoidal Decay\")\n",
    "plt.plot(data_5, label=\"Exponential Decay\")\n",
    "plt.xlabel(\"Episodes\")\n",
    "plt.ylabel(\"Epsilon\")\n",
    "plt.legend()\n",
    "plt.savefig(\"Epsilon_Decay\")"
   ]
  },
  {
   "cell_type": "code",
   "execution_count": 81,
   "metadata": {},
   "outputs": [
    {
     "name": "stdout",
     "output_type": "stream",
     "text": [
      "0.55\n"
     ]
    }
   ],
   "source": [
    "\n",
    "    \n",
    "import torch.optim as optim\n",
    "\n",
    "##from DQN_model import DQN\n",
    "from DQN_learn import OptimizerSpec\n",
    "from utils.schedule import LinearSchedule\n",
    "\n",
    "\n",
    "import torch\n",
    "import numpy as np\n",
    "import random\n",
    "\n",
    "%run ../game\n",
    "%run ../preprocessor\n",
    "%run DQN_model\n",
    "%run DQN_learn\n",
    "%run ../hyper_params\n",
    "\n",
    "params = get_param_dict(\"../hyperparameters.json\")\n",
    "\n",
    "SEED = params[\"seed\"]\n",
    "BATCH_SIZE = params[\"batch_size\"]\n",
    "GAMMA = params[\"gamma\"]\n",
    "REPLAY_BUFFER_SIZE = params[\"replay_buffer_size\"]\n",
    "LEARNING_STARTS = params[\"learning_starts\"]\n",
    "#LEARNING_STARTS = 5 #debug for back_prop\n",
    "LEARNING_FREQ = params[\"learning_freq\"] #how often the error is calculated\n",
    "FRAME_HISTORY_LEN = params[\"frame_history_len\"] \n",
    "TARGER_UPDATE_FREQ = params[\"target_update_freq\"]\n",
    "LEARNING_RATE = params[\"learning_rate\"]\n",
    "ALPHA = params[\"alpha\"]\n",
    "EPS = params[\"eps\"]\n",
    "num_episodes = 1#params[\"num_episodes\"]\n",
    "rgb = params[\"rgb\"]\n",
    "\n",
    "\n",
    "optimizer_spec = OptimizerSpec(\n",
    "        constructor=optim.RMSprop,\n",
    "        kwargs=dict(lr=LEARNING_RATE, alpha=ALPHA, eps=EPS),\n",
    "    )\n",
    "\n",
    "exploration_schedule = LinearSchedule(1000000, 0.1)\n",
    "print(exploration_schedule.value(500000))\n",
    "    \n",
    "n_frames = params[\"n_frames\"]\n",
    "n_channels = params[\"n_channels\"]\n",
    "original_width = params[\"original_width\"]\n",
    "original_height = params[\"original_height\"]\n",
    "scaled_width = 50#params[\"scaled_width\"]\n",
    "scaled_height = 50#params[\"scaled_height\"]\n",
    "\n",
    "game_visible = params[\"game_visible\"]\n",
    "mario_scale = params[\"mario_scale\"]\n",
    "mario_state = params[\"mario_state\"]\n",
    "mario_timer = params[\"mario_timer\"]\n",
    "mario_fps = params[\"mario_fps\"]\n",
    "level_path = params[\"level_path\"]\n",
    "preprocess = Preprocessor(n_frames, n_channels, original_height, original_width, scaled_height, scaled_width)\n",
    "game = Game(game_visible, mario_scale, mario_state, mario_timer, mario_fps, level_path, preprocess, rgb, True)\n",
    "\n",
    "\n",
    "\n",
    "\n"
   ]
  },
  {
   "cell_type": "code",
   "execution_count": 90,
   "metadata": {},
   "outputs": [
    {
     "name": "stdout",
     "output_type": "stream",
     "text": [
      "(7500,)\n",
      "(7500,)\n",
      "(7500,)\n",
      "(7500,)\n",
      "(7500,)\n",
      "(7500,)\n"
     ]
    },
    {
     "data": {
      "image/png": "[encoded data removed]",
      "text/plain": [
       "<Figure size 432x288 with 1 Axes>"
      ]
     },
     "metadata": {
      "needs_background": "light"
     },
     "output_type": "display_data"
    }
   ],
   "source": [
    "import matplotlib.pyplot as plt\n",
    "\n",
    "obs, reward, status = game.start_state()\n",
    "\n",
    "img = np.moveaxis(obs.numpy(), 0, -1)\n",
    "\n",
    "for n in range(5):\n",
    "    obs, reward, status = game.step(torch.IntTensor([[4]]))\n",
    "    img = np.moveaxis(obs.numpy(), 0, -1)\n",
    "    plt.imshow(img.astype(int))"
   ]
  }
 ],
 "metadata": {
  "kernelspec": {
   "display_name": "Python 3",
   "language": "python",
   "name": "python3"
  },
  "language_info": {
   "codemirror_mode": {
    "name": "ipython",
    "version": 3
   },
   "file_extension": ".py",
   "mimetype": "text/x-python",
   "name": "python",
   "nbconvert_exporter": "python",
   "pygments_lexer": "ipython3",
   "version": "3.7.6"
  }
 },
 "nbformat": 4,
 "nbformat_minor": 4
}
