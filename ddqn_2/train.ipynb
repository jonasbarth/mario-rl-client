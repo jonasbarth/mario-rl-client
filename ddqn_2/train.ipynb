{
 "cells": [
  {
   "cell_type": "code",
   "execution_count": 107,
   "metadata": {
    "scrolled": true
   },
   "outputs": [
    {
     "name": "stdout",
     "output_type": "stream",
     "text": [
      "0.09999999999999998\n",
      "Loading model\n",
      "Starting play episode 0\n"
     ]
    },
    {
     "name": "stderr",
     "output_type": "stream",
     "text": [
      "C:\\Users\\Jonas\\Desktop\\Uni\\Year 4\\ECM3401 Individual Literature and Review Project\\dev\\marioai\\mario-rl-client\\ddqn_2\\DQN_learn.py:314: UserWarning: volatile was removed and now has no effect. Use `with torch.no_grad():` instead.\n",
      "  action = Q(Variable(obs, volatile=True)).data.max(1)[1].view(-1, 1).cpu()\n"
     ]
    },
    {
     "name": "stdout",
     "output_type": "stream",
     "text": [
      "6.751007\n",
      "19.003357\n",
      "26.69075\n",
      "31.513992\n",
      "-3.7591095\n",
      "-100.0\n",
      "Starting play episode 1\n",
      "6.751007\n",
      "19.003357\n",
      "26.69075\n",
      "31.513992\n",
      "-3.7591095\n",
      "-100.0\n",
      "Starting play episode 2\n",
      "6.751007\n",
      "19.003357\n",
      "26.69075\n",
      "31.513992\n",
      "-3.7591095\n",
      "-100.0\n",
      "Starting play episode 3\n",
      "6.751007\n",
      "19.003357\n",
      "26.69075\n",
      "31.513992\n",
      "-3.7591095\n",
      "-100.0\n",
      "Starting play episode 4\n",
      "6.751007\n",
      "19.003357\n",
      "26.69075\n",
      "31.513992\n",
      "-3.7591095\n",
      "-100.0\n",
      "Starting play episode 5\n",
      "6.751007\n",
      "19.003357\n",
      "26.69075\n",
      "31.513992\n",
      "-3.7591095\n",
      "-100.0\n",
      "Starting play episode 6\n",
      "6.751007\n",
      "19.003357\n",
      "26.69075\n",
      "31.513992\n",
      "-3.7591095\n",
      "-100.0\n",
      "Starting play episode 7\n",
      "6.751007\n"
     ]
    },
    {
     "ename": "KeyboardInterrupt",
     "evalue": "",
     "output_type": "error",
     "traceback": [
      "\u001b[1;31m---------------------------------------------------------------------------\u001b[0m",
      "\u001b[1;31mKeyboardInterrupt\u001b[0m                         Traceback (most recent call last)",
      "\u001b[1;32m<ipython-input-107-7a682f10f01a>\u001b[0m in \u001b[0;36m<module>\u001b[1;34m\u001b[0m\n\u001b[0;32m     59\u001b[0m \u001b[1;33m\u001b[0m\u001b[0m\n\u001b[0;32m     60\u001b[0m \u001b[0magent\u001b[0m \u001b[1;33m=\u001b[0m \u001b[0mDDQNAgent\u001b[0m\u001b[1;33m(\u001b[0m\u001b[0mgame\u001b[0m\u001b[1;33m,\u001b[0m \u001b[0mnum_episodes\u001b[0m\u001b[1;33m,\u001b[0m \u001b[0mDQN\u001b[0m\u001b[1;33m,\u001b[0m \u001b[0moptimizer_spec\u001b[0m\u001b[1;33m,\u001b[0m \u001b[0mexploration_schedule\u001b[0m\u001b[1;33m,\u001b[0m \u001b[0mREPLAY_BUFFER_SIZE\u001b[0m\u001b[1;33m,\u001b[0m \u001b[0mBATCH_SIZE\u001b[0m\u001b[1;33m,\u001b[0m \u001b[0mGAMMA\u001b[0m\u001b[1;33m,\u001b[0m \u001b[0mLEARNING_STARTS\u001b[0m\u001b[1;33m,\u001b[0m \u001b[0mLEARNING_FREQ\u001b[0m\u001b[1;33m,\u001b[0m \u001b[0mFRAME_HISTORY_LEN\u001b[0m\u001b[1;33m,\u001b[0m \u001b[0mTARGER_UPDATE_FREQ\u001b[0m\u001b[1;33m)\u001b[0m\u001b[1;33m\u001b[0m\u001b[1;33m\u001b[0m\u001b[0m\n\u001b[1;32m---> 61\u001b[1;33m \u001b[0magent\u001b[0m\u001b[1;33m.\u001b[0m\u001b[0mplay\u001b[0m\u001b[1;33m(\u001b[0m\u001b[0mgame\u001b[0m\u001b[1;33m.\u001b[0m\u001b[0mload_model\u001b[0m\u001b[1;33m(\u001b[0m\u001b[1;34m\"./models/2020-04-04 14_36_19_epochs_1000_gap_3_policy.pt\"\u001b[0m\u001b[1;33m)\u001b[0m\u001b[1;33m)\u001b[0m\u001b[1;33m\u001b[0m\u001b[1;33m\u001b[0m\u001b[0m\n\u001b[0m\u001b[0;32m     62\u001b[0m \u001b[1;31m#agent.train()\u001b[0m\u001b[1;33m\u001b[0m\u001b[1;33m\u001b[0m\u001b[1;33m\u001b[0m\u001b[0m\n",
      "\u001b[1;32m~\\Desktop\\Uni\\Year 4\\ECM3401 Individual Literature and Review Project\\dev\\marioai\\mario-rl-client\\ddqn_2\\DQN_learn.py\u001b[0m in \u001b[0;36mplay\u001b[1;34m(self, model)\u001b[0m\n\u001b[0;32m    317\u001b[0m                 \u001b[1;31m# Advance one step\u001b[0m\u001b[1;33m\u001b[0m\u001b[1;33m\u001b[0m\u001b[1;33m\u001b[0m\u001b[0m\n\u001b[0;32m    318\u001b[0m \u001b[1;33m\u001b[0m\u001b[0m\n\u001b[1;32m--> 319\u001b[1;33m                 \u001b[0mobs\u001b[0m\u001b[1;33m,\u001b[0m \u001b[0mreward\u001b[0m\u001b[1;33m,\u001b[0m \u001b[0mgame_status\u001b[0m \u001b[1;33m=\u001b[0m \u001b[0mself\u001b[0m\u001b[1;33m.\u001b[0m\u001b[0menv\u001b[0m\u001b[1;33m.\u001b[0m\u001b[0mstep\u001b[0m\u001b[1;33m(\u001b[0m\u001b[0maction\u001b[0m\u001b[1;33m)\u001b[0m\u001b[1;33m\u001b[0m\u001b[1;33m\u001b[0m\u001b[0m\n\u001b[0m\u001b[0;32m    320\u001b[0m                 \u001b[0mgame_status\u001b[0m \u001b[1;33m=\u001b[0m \u001b[0mself\u001b[0m\u001b[1;33m.\u001b[0m\u001b[0mstatus_to_bool\u001b[0m\u001b[1;33m(\u001b[0m\u001b[0mgame_status\u001b[0m\u001b[1;33m)\u001b[0m\u001b[1;33m\u001b[0m\u001b[1;33m\u001b[0m\u001b[0m\n\u001b[0;32m    321\u001b[0m                 \u001b[0mprint\u001b[0m\u001b[1;33m(\u001b[0m\u001b[0mreward\u001b[0m\u001b[1;33m)\u001b[0m\u001b[1;33m\u001b[0m\u001b[1;33m\u001b[0m\u001b[0m\n",
      "\u001b[1;32m~\\Desktop\\Uni\\Year 4\\ECM3401 Individual Literature and Review Project\\dev\\marioai\\mario-rl-client\\game.py\u001b[0m in \u001b[0;36mstep\u001b[1;34m(self, action)\u001b[0m\n\u001b[0;32m     50\u001b[0m         \u001b[0maction\u001b[0m \u001b[1;33m=\u001b[0m \u001b[0mself\u001b[0m\u001b[1;33m.\u001b[0m\u001b[0mtensor_to_action\u001b[0m\u001b[1;33m(\u001b[0m\u001b[0maction\u001b[0m\u001b[1;33m)\u001b[0m\u001b[1;33m\u001b[0m\u001b[1;33m\u001b[0m\u001b[0m\n\u001b[0;32m     51\u001b[0m         \u001b[0mjava_list\u001b[0m \u001b[1;33m=\u001b[0m \u001b[0mListConverter\u001b[0m\u001b[1;33m(\u001b[0m\u001b[1;33m)\u001b[0m\u001b[1;33m.\u001b[0m\u001b[0mconvert\u001b[0m\u001b[1;33m(\u001b[0m\u001b[0maction\u001b[0m\u001b[1;33m,\u001b[0m \u001b[0mself\u001b[0m\u001b[1;33m.\u001b[0m\u001b[0mgateway\u001b[0m\u001b[1;33m.\u001b[0m\u001b[0m_gateway_client\u001b[0m\u001b[1;33m)\u001b[0m\u001b[1;33m\u001b[0m\u001b[1;33m\u001b[0m\u001b[0m\n\u001b[1;32m---> 52\u001b[1;33m         \u001b[0mobs\u001b[0m \u001b[1;33m=\u001b[0m \u001b[0mself\u001b[0m\u001b[1;33m.\u001b[0m\u001b[0mgateway\u001b[0m\u001b[1;33m.\u001b[0m\u001b[0mentry_point\u001b[0m\u001b[1;33m.\u001b[0m\u001b[0mexecuteAction\u001b[0m\u001b[1;33m(\u001b[0m\u001b[0mjava_list\u001b[0m\u001b[1;33m)\u001b[0m\u001b[1;33m\u001b[0m\u001b[1;33m\u001b[0m\u001b[0m\n\u001b[0m\u001b[0;32m     53\u001b[0m \u001b[1;33m\u001b[0m\u001b[0m\n\u001b[0;32m     54\u001b[0m         \u001b[0mreward\u001b[0m \u001b[1;33m=\u001b[0m \u001b[0mobs\u001b[0m\u001b[1;33m.\u001b[0m\u001b[0mgetValue\u001b[0m\u001b[1;33m(\u001b[0m\u001b[1;33m)\u001b[0m\u001b[1;33m\u001b[0m\u001b[1;33m\u001b[0m\u001b[0m\n",
      "\u001b[1;32m~\\Anaconda3\\envs\\marioenv\\lib\\site-packages\\py4j\\java_gateway.py\u001b[0m in \u001b[0;36m__call__\u001b[1;34m(self, *args)\u001b[0m\n\u001b[0;32m   1282\u001b[0m             \u001b[0mproto\u001b[0m\u001b[1;33m.\u001b[0m\u001b[0mEND_COMMAND_PART\u001b[0m\u001b[1;33m\u001b[0m\u001b[1;33m\u001b[0m\u001b[0m\n\u001b[0;32m   1283\u001b[0m \u001b[1;33m\u001b[0m\u001b[0m\n\u001b[1;32m-> 1284\u001b[1;33m         \u001b[0manswer\u001b[0m \u001b[1;33m=\u001b[0m \u001b[0mself\u001b[0m\u001b[1;33m.\u001b[0m\u001b[0mgateway_client\u001b[0m\u001b[1;33m.\u001b[0m\u001b[0msend_command\u001b[0m\u001b[1;33m(\u001b[0m\u001b[0mcommand\u001b[0m\u001b[1;33m)\u001b[0m\u001b[1;33m\u001b[0m\u001b[1;33m\u001b[0m\u001b[0m\n\u001b[0m\u001b[0;32m   1285\u001b[0m         return_value = get_return_value(\n\u001b[0;32m   1286\u001b[0m             answer, self.gateway_client, self.target_id, self.name)\n",
      "\u001b[1;32m~\\Anaconda3\\envs\\marioenv\\lib\\site-packages\\py4j\\java_gateway.py\u001b[0m in \u001b[0;36msend_command\u001b[1;34m(self, command, retry, binary)\u001b[0m\n\u001b[0;32m   1012\u001b[0m         \u001b[0mconnection\u001b[0m \u001b[1;33m=\u001b[0m \u001b[0mself\u001b[0m\u001b[1;33m.\u001b[0m\u001b[0m_get_connection\u001b[0m\u001b[1;33m(\u001b[0m\u001b[1;33m)\u001b[0m\u001b[1;33m\u001b[0m\u001b[1;33m\u001b[0m\u001b[0m\n\u001b[0;32m   1013\u001b[0m         \u001b[1;32mtry\u001b[0m\u001b[1;33m:\u001b[0m\u001b[1;33m\u001b[0m\u001b[1;33m\u001b[0m\u001b[0m\n\u001b[1;32m-> 1014\u001b[1;33m             \u001b[0mresponse\u001b[0m \u001b[1;33m=\u001b[0m \u001b[0mconnection\u001b[0m\u001b[1;33m.\u001b[0m\u001b[0msend_command\u001b[0m\u001b[1;33m(\u001b[0m\u001b[0mcommand\u001b[0m\u001b[1;33m)\u001b[0m\u001b[1;33m\u001b[0m\u001b[1;33m\u001b[0m\u001b[0m\n\u001b[0m\u001b[0;32m   1015\u001b[0m             \u001b[1;32mif\u001b[0m \u001b[0mbinary\u001b[0m\u001b[1;33m:\u001b[0m\u001b[1;33m\u001b[0m\u001b[1;33m\u001b[0m\u001b[0m\n\u001b[0;32m   1016\u001b[0m                 \u001b[1;32mreturn\u001b[0m \u001b[0mresponse\u001b[0m\u001b[1;33m,\u001b[0m \u001b[0mself\u001b[0m\u001b[1;33m.\u001b[0m\u001b[0m_create_connection_guard\u001b[0m\u001b[1;33m(\u001b[0m\u001b[0mconnection\u001b[0m\u001b[1;33m)\u001b[0m\u001b[1;33m\u001b[0m\u001b[1;33m\u001b[0m\u001b[0m\n",
      "\u001b[1;32m~\\Anaconda3\\envs\\marioenv\\lib\\site-packages\\py4j\\java_gateway.py\u001b[0m in \u001b[0;36msend_command\u001b[1;34m(self, command)\u001b[0m\n\u001b[0;32m   1179\u001b[0m \u001b[1;33m\u001b[0m\u001b[0m\n\u001b[0;32m   1180\u001b[0m         \u001b[1;32mtry\u001b[0m\u001b[1;33m:\u001b[0m\u001b[1;33m\u001b[0m\u001b[1;33m\u001b[0m\u001b[0m\n\u001b[1;32m-> 1181\u001b[1;33m             \u001b[0manswer\u001b[0m \u001b[1;33m=\u001b[0m \u001b[0msmart_decode\u001b[0m\u001b[1;33m(\u001b[0m\u001b[0mself\u001b[0m\u001b[1;33m.\u001b[0m\u001b[0mstream\u001b[0m\u001b[1;33m.\u001b[0m\u001b[0mreadline\u001b[0m\u001b[1;33m(\u001b[0m\u001b[1;33m)\u001b[0m\u001b[1;33m[\u001b[0m\u001b[1;33m:\u001b[0m\u001b[1;33m-\u001b[0m\u001b[1;36m1\u001b[0m\u001b[1;33m]\u001b[0m\u001b[1;33m)\u001b[0m\u001b[1;33m\u001b[0m\u001b[1;33m\u001b[0m\u001b[0m\n\u001b[0m\u001b[0;32m   1182\u001b[0m             \u001b[0mlogger\u001b[0m\u001b[1;33m.\u001b[0m\u001b[0mdebug\u001b[0m\u001b[1;33m(\u001b[0m\u001b[1;34m\"Answer received: {0}\"\u001b[0m\u001b[1;33m.\u001b[0m\u001b[0mformat\u001b[0m\u001b[1;33m(\u001b[0m\u001b[0manswer\u001b[0m\u001b[1;33m)\u001b[0m\u001b[1;33m)\u001b[0m\u001b[1;33m\u001b[0m\u001b[1;33m\u001b[0m\u001b[0m\n\u001b[0;32m   1183\u001b[0m             \u001b[1;32mif\u001b[0m \u001b[0manswer\u001b[0m\u001b[1;33m.\u001b[0m\u001b[0mstartswith\u001b[0m\u001b[1;33m(\u001b[0m\u001b[0mproto\u001b[0m\u001b[1;33m.\u001b[0m\u001b[0mRETURN_MESSAGE\u001b[0m\u001b[1;33m)\u001b[0m\u001b[1;33m:\u001b[0m\u001b[1;33m\u001b[0m\u001b[1;33m\u001b[0m\u001b[0m\n",
      "\u001b[1;32m~\\Anaconda3\\envs\\marioenv\\lib\\socket.py\u001b[0m in \u001b[0;36mreadinto\u001b[1;34m(self, b)\u001b[0m\n\u001b[0;32m    587\u001b[0m         \u001b[1;32mwhile\u001b[0m \u001b[1;32mTrue\u001b[0m\u001b[1;33m:\u001b[0m\u001b[1;33m\u001b[0m\u001b[1;33m\u001b[0m\u001b[0m\n\u001b[0;32m    588\u001b[0m             \u001b[1;32mtry\u001b[0m\u001b[1;33m:\u001b[0m\u001b[1;33m\u001b[0m\u001b[1;33m\u001b[0m\u001b[0m\n\u001b[1;32m--> 589\u001b[1;33m                 \u001b[1;32mreturn\u001b[0m \u001b[0mself\u001b[0m\u001b[1;33m.\u001b[0m\u001b[0m_sock\u001b[0m\u001b[1;33m.\u001b[0m\u001b[0mrecv_into\u001b[0m\u001b[1;33m(\u001b[0m\u001b[0mb\u001b[0m\u001b[1;33m)\u001b[0m\u001b[1;33m\u001b[0m\u001b[1;33m\u001b[0m\u001b[0m\n\u001b[0m\u001b[0;32m    590\u001b[0m             \u001b[1;32mexcept\u001b[0m \u001b[0mtimeout\u001b[0m\u001b[1;33m:\u001b[0m\u001b[1;33m\u001b[0m\u001b[1;33m\u001b[0m\u001b[0m\n\u001b[0;32m    591\u001b[0m                 \u001b[0mself\u001b[0m\u001b[1;33m.\u001b[0m\u001b[0m_timeout_occurred\u001b[0m \u001b[1;33m=\u001b[0m \u001b[1;32mTrue\u001b[0m\u001b[1;33m\u001b[0m\u001b[1;33m\u001b[0m\u001b[0m\n",
      "\u001b[1;31mKeyboardInterrupt\u001b[0m: "
     ]
    }
   ],
   "source": [
    "\n",
    "import torch.optim as optim\n",
    "\n",
    "##from DQN_model import DQN\n",
    "from DQN_learn import OptimizerSpec\n",
    "from utils.schedule import LinearSchedule\n",
    "\n",
    "\n",
    "import torch\n",
    "import numpy as np\n",
    "import random\n",
    "\n",
    "%run ../game\n",
    "%run ../preprocessor\n",
    "%run DQN_model\n",
    "%run DQN_learn\n",
    "%run ../hyper_params\n",
    "\n",
    "params = get_param_dict(\"../hyperparameters.json\")\n",
    "\n",
    "SEED = params[\"seed\"]\n",
    "BATCH_SIZE = params[\"batch_size\"]\n",
    "GAMMA = params[\"gamma\"]\n",
    "REPLAY_BUFFER_SIZE = params[\"replay_buffer_size\"]\n",
    "LEARNING_STARTS = params[\"learning_starts\"]\n",
    "#LEARNING_STARTS = 5 #debug for back_prop\n",
    "LEARNING_FREQ = params[\"learning_freq\"] #how often the error is calculated\n",
    "FRAME_HISTORY_LEN = params[\"frame_history_len\"] \n",
    "TARGER_UPDATE_FREQ = params[\"target_update_freq\"]\n",
    "LEARNING_RATE = params[\"learning_rate\"]\n",
    "ALPHA = params[\"alpha\"]\n",
    "EPS = params[\"eps\"]\n",
    "num_episodes = 10#params[\"num_episodes\"]\n",
    "rgb = params[\"rgb\"]\n",
    "\n",
    "\n",
    "optimizer_spec = OptimizerSpec(\n",
    "        constructor=optim.RMSprop,\n",
    "        kwargs=dict(lr=LEARNING_RATE, alpha=ALPHA, eps=EPS),\n",
    "    )\n",
    "\n",
    "exploration_schedule = LinearSchedule(num_episodes, 0.1)\n",
    "print(exploration_schedule.value(500000))\n",
    "    \n",
    "n_frames = params[\"n_frames\"]\n",
    "n_channels = params[\"n_channels\"]\n",
    "original_width = params[\"original_width\"]\n",
    "original_height = params[\"original_height\"]\n",
    "scaled_width = params[\"scaled_width\"]\n",
    "scaled_height = params[\"scaled_height\"]\n",
    "\n",
    "game_visible = params[\"game_visible\"]\n",
    "mario_scale = params[\"mario_scale\"]\n",
    "mario_state = params[\"mario_state\"]\n",
    "mario_timer = params[\"mario_timer\"]\n",
    "mario_fps = params[\"mario_fps\"]\n",
    "level_path = params[\"level_path\"]\n",
    "preprocess = Preprocessor(n_frames, n_channels, original_height, original_width, scaled_height, scaled_width)\n",
    "game = Game(game_visible, mario_scale, mario_state, mario_timer, mario_fps, level_path, preprocess, rgb, False)\n",
    "\n",
    "agent = DDQNAgent(game, num_episodes, DQN, optimizer_spec, exploration_schedule, REPLAY_BUFFER_SIZE, BATCH_SIZE, GAMMA, LEARNING_STARTS, LEARNING_FREQ, FRAME_HISTORY_LEN, TARGER_UPDATE_FREQ)\n",
    "agent.play(game.load_model(\"./models/2020-04-04 14_36_19_epochs_1000_gap_3_policy.pt\"))\n",
    "#agent.train()\n"
   ]
  },
  {
   "cell_type": "code",
   "execution_count": 20,
   "metadata": {},
   "outputs": [],
   "source": [
    "optimizer_spec = OptimizerSpec(\n",
    "        constructor=optim.RMSprop,\n",
    "        kwargs=dict(lr=LEARNING_RATE, alpha=ALPHA, eps=EPS),\n",
    "    )\n",
    "\n",
    "timesteps = 10**3\n",
    "start = 1.0\n",
    "\n",
    "exploration_schedule = LinearSchedule(timesteps, 0.1, start)\n",
    "\n",
    "data = np.array([])\n",
    "\n",
    "for n in range(timesteps):\n",
    "    data = np.append(data, exploration_schedule.value(n + 1))\n",
    "\n",
    "import matplotlib.pyplot as plt\n",
    "\n",
    "\n",
    "\n"
   ]
  },
  {
   "cell_type": "code",
   "execution_count": 84,
   "metadata": {},
   "outputs": [
    {
     "data": {
      "text/plain": [
       "[<matplotlib.lines.Line2D at 0x166c0f2fb08>]"
      ]
     },
     "execution_count": 84,
     "metadata": {},
     "output_type": "execute_result"
    },
    {
     "data": {
      "image/png": "[encoded data removed]",
      "text/plain": [
       "<Figure size 432x288 with 1 Axes>"
      ]
     },
     "metadata": {
      "needs_background": "light"
     },
     "output_type": "display_data"
    }
   ],
   "source": [
    "plt.plot(data)"
   ]
  },
  {
   "cell_type": "code",
   "execution_count": 62,
   "metadata": {},
   "outputs": [
    {
     "data": {
      "text/plain": [
       "[<matplotlib.lines.Line2D at 0x143f0351208>]"
      ]
     },
     "execution_count": 62,
     "metadata": {},
     "output_type": "execute_result"
    },
    {
     "data": {
      "image/png": "[encoded data removed]",
      "text/plain": [
       "<Figure size 432x288 with 1 Axes>"
      ]
     },
     "metadata": {
      "needs_background": "light"
     },
     "output_type": "display_data"
    }
   ],
   "source": [
    "import math\n",
    "exp = 3\n",
    "eps_start = 1.0\n",
    "decay = 0.997\n",
    "m = 4\n",
    "N = 10**exp\n",
    "def sin_eps(eps_start, decay, i_episode, m, N):\n",
    "    return eps_start * decay ** i_episode * (1/2) * (1 + math.cos((2*math.pi * i_episode * m) / N))\n",
    "\n",
    "data_2 = np.array([])\n",
    "for n in range(N):\n",
    "    eps = sin_eps(eps_start, decay, n + 1, m, N)\n",
    "    data_2 = np.append(data_2, eps)\n",
    "    \n",
    "plt.plot(data_2)"
   ]
  },
  {
   "cell_type": "code",
   "execution_count": 102,
   "metadata": {},
   "outputs": [
    {
     "data": {
      "image/png": "[encoded data removed]",
      "text/plain": [
       "<Figure size 432x288 with 1 Axes>"
      ]
     },
     "metadata": {
      "needs_background": "light"
     },
     "output_type": "display_data"
    }
   ],
   "source": [
    "def oc_eps(eps_min, eps_start, num_steps, eps_decay):\n",
    "    eps = eps_min + (eps_start - eps_min) * math.exp(-num_steps / eps_decay)\n",
    "    return eps\n",
    "\n",
    "def lin_eps(eps_start, eps_end, t, N):\n",
    "    eps = eps_start + min(t / N, eps_start) * (eps_end - eps_start)\n",
    "    return eps\n",
    "\n",
    "def exp_eps(eps_start, eps_end, t, N):\n",
    "    #eps = eps_start + (min(t / N, eps_start) * (eps_end - eps_start)) \n",
    "    #return eps ** eps_decay\n",
    "    return eps_end + (eps_start - eps_end) * math.exp(-1. * t / N)\n",
    "       \n",
    "\n",
    "\n",
    "def sin_eps(eps_start, decay, i_episode, m, N):\n",
    "    return eps_start * decay ** i_episode * (1/2) * (1 + math.cos((2*math.pi * i_episode * m) / N))\n",
    "\n",
    "    \n",
    "eps_start=1.0\n",
    "eps_min=0.1\n",
    "eps_decay=int(1e6)\n",
    "\n",
    "data_3 = np.array([])\n",
    "data_4 = np.array([])\n",
    "data_5 = np.array([])\n",
    "\n",
    "for n in range(N):\n",
    "    eps = oc_eps(eps_min, eps_start, n + 1, eps_decay)\n",
    "    data_3 = np.append(data_3, eps)\n",
    "    data_4 = np.append(data_4, lin_eps(eps_start, eps_min, n+1, N))\n",
    "    data_5 = np.append(data_5, exp_eps(eps_start, eps_min, n+1, N/4))\n",
    "\n",
    "    \n",
    "    \n",
    "plt.plot(data_4, label=\"Linear Decay\")\n",
    "plt.plot(data_2, label=\"Sinusoidal Decay\")\n",
    "plt.plot(data_5, label=\"Exponential Decay\")\n",
    "plt.xlabel(\"Episodes\")\n",
    "plt.ylabel(\"Epsilon\")\n",
    "plt.legend()\n",
    "plt.savefig(\"Epsilon_Decay\")"
   ]
  },
  {
   "cell_type": "code",
   "execution_count": 81,
   "metadata": {},
   "outputs": [
    {
     "name": "stdout",
     "output_type": "stream",
     "text": [
      "0.55\n"
     ]
    }
   ],
   "source": [
    "\n",
    "    \n",
    "import torch.optim as optim\n",
    "\n",
    "##from DQN_model import DQN\n",
    "from DQN_learn import OptimizerSpec\n",
    "from utils.schedule import LinearSchedule\n",
    "\n",
    "\n",
    "import torch\n",
    "import numpy as np\n",
    "import random\n",
    "\n",
    "%run ../game\n",
    "%run ../preprocessor\n",
    "%run DQN_model\n",
    "%run DQN_learn\n",
    "%run ../hyper_params\n",
    "\n",
    "params = get_param_dict(\"../hyperparameters.json\")\n",
    "\n",
    "SEED = params[\"seed\"]\n",
    "BATCH_SIZE = params[\"batch_size\"]\n",
    "GAMMA = params[\"gamma\"]\n",
    "REPLAY_BUFFER_SIZE = params[\"replay_buffer_size\"]\n",
    "LEARNING_STARTS = params[\"learning_starts\"]\n",
    "#LEARNING_STARTS = 5 #debug for back_prop\n",
    "LEARNING_FREQ = params[\"learning_freq\"] #how often the error is calculated\n",
    "FRAME_HISTORY_LEN = params[\"frame_history_len\"] \n",
    "TARGER_UPDATE_FREQ = params[\"target_update_freq\"]\n",
    "LEARNING_RATE = params[\"learning_rate\"]\n",
    "ALPHA = params[\"alpha\"]\n",
    "EPS = params[\"eps\"]\n",
    "num_episodes = 1#params[\"num_episodes\"]\n",
    "rgb = params[\"rgb\"]\n",
    "\n",
    "\n",
    "optimizer_spec = OptimizerSpec(\n",
    "        constructor=optim.RMSprop,\n",
    "        kwargs=dict(lr=LEARNING_RATE, alpha=ALPHA, eps=EPS),\n",
    "    )\n",
    "\n",
    "exploration_schedule = LinearSchedule(1000000, 0.1)\n",
    "print(exploration_schedule.value(500000))\n",
    "    \n",
    "n_frames = params[\"n_frames\"]\n",
    "n_channels = params[\"n_channels\"]\n",
    "original_width = params[\"original_width\"]\n",
    "original_height = params[\"original_height\"]\n",
    "scaled_width = 50#params[\"scaled_width\"]\n",
    "scaled_height = 50#params[\"scaled_height\"]\n",
    "\n",
    "game_visible = params[\"game_visible\"]\n",
    "mario_scale = params[\"mario_scale\"]\n",
    "mario_state = params[\"mario_state\"]\n",
    "mario_timer = params[\"mario_timer\"]\n",
    "mario_fps = params[\"mario_fps\"]\n",
    "level_path = params[\"level_path\"]\n",
    "preprocess = Preprocessor(n_frames, n_channels, original_height, original_width, scaled_height, scaled_width)\n",
    "game = Game(game_visible, mario_scale, mario_state, mario_timer, mario_fps, level_path, preprocess, rgb, True)\n",
    "\n",
    "\n",
    "\n",
    "\n"
   ]
  },
  {
   "cell_type": "code",
   "execution_count": 90,
   "metadata": {},
   "outputs": [
    {
     "name": "stdout",
     "output_type": "stream",
     "text": [
      "(7500,)\n",
      "(7500,)\n",
      "(7500,)\n",
      "(7500,)\n",
      "(7500,)\n",
      "(7500,)\n"
     ]
    },
    {
     "data": {
      "image/png": "[encoded data removed]",
      "text/plain": [
       "<Figure size 432x288 with 1 Axes>"
      ]
     },
     "metadata": {
      "needs_background": "light"
     },
     "output_type": "display_data"
    }
   ],
   "source": [
    "import matplotlib.pyplot as plt\n",
    "\n",
    "obs, reward, status = game.start_state()\n",
    "\n",
    "img = np.moveaxis(obs.numpy(), 0, -1)\n",
    "\n",
    "for n in range(5):\n",
    "    obs, reward, status = game.step(torch.IntTensor([[4]]))\n",
    "    img = np.moveaxis(obs.numpy(), 0, -1)\n",
    "    plt.imshow(img.astype(int))"
   ]
  }
 ],
 "metadata": {
  "kernelspec": {
   "display_name": "Python 3",
   "language": "python",
   "name": "python3"
  },
  "language_info": {
   "codemirror_mode": {
    "name": "ipython",
    "version": 3
   },
   "file_extension": ".py",
   "mimetype": "text/x-python",
   "name": "python",
   "nbconvert_exporter": "python",
   "pygments_lexer": "ipython3",
   "version": "3.7.6"
  }
 },
 "nbformat": 4,
 "nbformat_minor": 4
}
